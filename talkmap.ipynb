{
 "cells": [
  {
   "cell_type": "markdown",
   "metadata": {},
   "source": [
    "# Leaflet cluster map of talk locations\n",
    "\n",
    "Run this from the _talks/ directory, which contains .md files of all your talks. This scrapes the location YAML field from each .md file, geolocates it with geopy/Nominatim, and uses the getorg library to output data, HTML, and Javascript for a standalone cluster map."
   ]
  },
  {
   "cell_type": "code",
   "execution_count": 1,
   "metadata": {},
   "outputs": [
    {
     "name": "stdout",
     "output_type": "stream",
     "text": [
      "Defaulting to user installation because normal site-packages is not writeable\n",
      "Requirement already satisfied: getorg in /home/pankaj/.local/lib/python3.8/site-packages (0.3.1)\n",
      "Requirement already satisfied: pygithub in /home/pankaj/.local/lib/python3.8/site-packages (from getorg) (1.55)\n",
      "Requirement already satisfied: geopy in /home/pankaj/.local/lib/python3.8/site-packages (from getorg) (2.2.0)\n",
      "Requirement already satisfied: retrying in /usr/lib/python3/dist-packages (from getorg) (1.3.3)\n",
      "Requirement already satisfied: geographiclib<2,>=1.49 in /home/pankaj/.local/lib/python3.8/site-packages (from geopy->getorg) (1.52)\n",
      "Requirement already satisfied: deprecated in /home/pankaj/.local/lib/python3.8/site-packages (from pygithub->getorg) (1.2.13)\n",
      "Requirement already satisfied: pyjwt>=2.0 in /home/pankaj/.local/lib/python3.8/site-packages (from pygithub->getorg) (2.3.0)\n",
      "Requirement already satisfied: pynacl>=1.4.0 in /home/pankaj/.local/lib/python3.8/site-packages (from pygithub->getorg) (1.5.0)\n",
      "Requirement already satisfied: requests>=2.14.0 in /usr/lib/python3/dist-packages (from pygithub->getorg) (2.22.0)\n",
      "Requirement already satisfied: cffi>=1.4.1 in /home/pankaj/.local/lib/python3.8/site-packages (from pynacl>=1.4.0->pygithub->getorg) (1.15.0)\n",
      "Requirement already satisfied: wrapt<2,>=1.10 in /home/pankaj/.local/lib/python3.8/site-packages (from deprecated->pygithub->getorg) (1.14.0)\n",
      "Requirement already satisfied: pycparser in /home/pankaj/.local/lib/python3.8/site-packages (from cffi>=1.4.1->pynacl>=1.4.0->pygithub->getorg) (2.21)\n",
      "\u001b[33mWARNING: You are using pip version 21.3.1; however, version 22.0.4 is available.\n",
      "You should consider upgrading via the '/usr/bin/python3 -m pip install --upgrade pip' command.\u001b[0m\n",
      "IPywidgets and ipyleaflet support enabled.\n"
     ]
    }
   ],
   "source": [
    "!pip install getorg --upgrade\n",
    "import glob\n",
    "import getorg\n",
    "from geopy import Nominatim"
   ]
  },
  {
   "cell_type": "code",
   "execution_count": 2,
   "metadata": {},
   "outputs": [],
   "source": [
    "g = glob.glob(\"_talks/*.md\")"
   ]
  },
  {
   "cell_type": "code",
   "execution_count": 3,
   "metadata": {},
   "outputs": [],
   "source": [
    "geocoder = Nominatim(user_agent=\"pankajkgupta\")\n",
    "location_dict = {}\n",
    "location = \"\"\n",
    "permalink = \"\"\n",
    "title = \"\""
   ]
  },
  {
   "cell_type": "code",
   "execution_count": 4,
   "metadata": {},
   "outputs": [
    {
     "name": "stdout",
     "output_type": "stream",
     "text": [
      "Washington DC, USA \n",
      " Washington, District of Columbia, United States\n",
      "Portland, Oregon, USA \n",
      " Portland, Multnomah County, Oregon, United States\n",
      "Manitoba, Canada \n",
      " Manitoba, Canada\n",
      "Online \n",
      " Online, Croix d'Argent, Montpellier, Hérault, Occitanie, France métropolitaine, France\n",
      "Vancouver, Canada \n",
      " Vancouver, District of North Vancouver, Metro Vancouver Regional District, British Columbia, Canada\n",
      "Alberta, Canada \n",
      " Alberta, Canada\n",
      "London, UK \n",
      " London, Greater London, England, SW1A 2DX, United Kingdom\n",
      "Vancouver, Canada \n",
      " Vancouver, District of North Vancouver, Metro Vancouver Regional District, British Columbia, Canada\n",
      "Quebec City, Canada \n",
      " Québec, Québec (Agglomération), Capitale-Nationale, Québec, Canada\n",
      "Vancouver, Canada \n",
      " Vancouver, District of North Vancouver, Metro Vancouver Regional District, British Columbia, Canada\n",
      "Quebec City, Canada \n",
      " Québec, Québec (Agglomération), Capitale-Nationale, Québec, Canada\n",
      "Quebec City, Canada \n",
      " Québec, Québec (Agglomération), Capitale-Nationale, Québec, Canada\n",
      "Online \n",
      " Online, Croix d'Argent, Montpellier, Hérault, Occitanie, France métropolitaine, France\n",
      "Montreal, Qc \n",
      " Montréal, Agglomération de Montréal, Montréal (06), Québec, H3B 1M7, Canada\n"
     ]
    }
   ],
   "source": [
    "\n",
    "for file in g:\n",
    "    with open(file, 'r') as f:\n",
    "        lines = f.read()\n",
    "        if lines.find('location: \"') > 1:\n",
    "            loc_start = lines.find('location: \"') + 11\n",
    "            lines_trim = lines[loc_start:]\n",
    "            loc_end = lines_trim.find('\"')\n",
    "            location = lines_trim[:loc_end]\n",
    "                            \n",
    "           \n",
    "        location_dict[location] = geocoder.geocode(location)\n",
    "        print(location, \"\\n\", location_dict[location])\n"
   ]
  },
  {
   "cell_type": "code",
   "execution_count": 5,
   "metadata": {},
   "outputs": [
    {
     "data": {
      "text/plain": [
       "'Written map to ./talkmap/'"
      ]
     },
     "execution_count": 5,
     "metadata": {},
     "output_type": "execute_result"
    }
   ],
   "source": [
    "m = getorg.orgmap.create_map_obj()\n",
    "getorg.orgmap.output_html_cluster_map(location_dict, folder_name=\"./talkmap\", hashed_usernames=False)"
   ]
  },
  {
   "cell_type": "code",
   "execution_count": null,
   "metadata": {},
   "outputs": [],
   "source": []
  }
 ],
 "metadata": {
  "anaconda-cloud": {},
  "kernelspec": {
   "display_name": "Python 3.8.10 64-bit ('nathacks': conda)",
   "language": "python",
   "name": "python3810jvsc74a57bd027901b006ace906b3051b5a17454123a922610aa85cdba0893b271dc9dfdb035"
  },
  "language_info": {
   "codemirror_mode": {
    "name": "ipython",
    "version": 3
   },
   "file_extension": ".py",
   "mimetype": "text/x-python",
   "name": "python",
   "nbconvert_exporter": "python",
   "pygments_lexer": "ipython3",
   "version": "3.8.10"
  }
 },
 "nbformat": 4,
 "nbformat_minor": 1
}
